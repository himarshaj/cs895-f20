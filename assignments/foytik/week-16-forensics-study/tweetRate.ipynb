{
 "cells": [
  {
   "cell_type": "markdown",
   "metadata": {},
   "source": [
    "# This notebook is used to process twitter and botometer data to make networks and do analysis on the networks\n",
    "- This notebook reades in the tweet record data (datetime, user)\n",
    "- Twitter follower accounts for each BidenCheated Tweet account\n",
    "- It also reads in the bot scores (user, score)"
   ]
  },
  {
   "cell_type": "code",
   "execution_count": 2,
   "metadata": {},
   "outputs": [],
   "source": [
    "import pandas as pd\n",
    "import csv\n",
    "import os\n",
    "import matplotlib.pyplot as plt\n",
    "import datetime\n",
    "import matplotlib.dates as dates\n",
    "import matplotlib.ticker as mticker\n",
    "import numpy as np\n",
    "import plotly.graph_objects as go\n",
    "\n",
    "import networkx as nx\n",
    "\n",
    "#df_final = pd.read_csv(\"datetTiming.csv\")# names=['date', 'time', 'user'])\n",
    "df_final = pd.read_csv(\"date_time_tweetTiming.csv\", names=['date', 'time', 'username'])"
   ]
  },
  {
   "cell_type": "code",
   "execution_count": 3,
   "metadata": {},
   "outputs": [
    {
     "data": {
      "text/plain": [
       "305780"
      ]
     },
     "execution_count": 3,
     "metadata": {},
     "output_type": "execute_result"
    }
   ],
   "source": [
    "len(df_final)\n",
    "#df_final['date'] = df_final['date'].str.rstrip(' ED')\n",
    "#df_final['date']"
   ]
  },
  {
   "cell_type": "code",
   "execution_count": 4,
   "metadata": {},
   "outputs": [
    {
     "data": {
      "text/html": [
       "<div>\n",
       "<style scoped>\n",
       "    .dataframe tbody tr th:only-of-type {\n",
       "        vertical-align: middle;\n",
       "    }\n",
       "\n",
       "    .dataframe tbody tr th {\n",
       "        vertical-align: top;\n",
       "    }\n",
       "\n",
       "    .dataframe thead th {\n",
       "        text-align: right;\n",
       "    }\n",
       "</style>\n",
       "<table border=\"1\" class=\"dataframe\">\n",
       "  <thead>\n",
       "    <tr style=\"text-align: right;\">\n",
       "      <th></th>\n",
       "      <th>date</th>\n",
       "      <th>time</th>\n",
       "      <th>username</th>\n",
       "    </tr>\n",
       "  </thead>\n",
       "  <tbody>\n",
       "    <tr>\n",
       "      <th>0</th>\n",
       "      <td>2020-12-05</td>\n",
       "      <td>10:56:30</td>\n",
       "      <td>138087</td>\n",
       "    </tr>\n",
       "    <tr>\n",
       "      <th>1</th>\n",
       "      <td>2020-12-05</td>\n",
       "      <td>10:56:27</td>\n",
       "      <td>384347</td>\n",
       "    </tr>\n",
       "    <tr>\n",
       "      <th>2</th>\n",
       "      <td>2020-12-05</td>\n",
       "      <td>10:56:14</td>\n",
       "      <td>236827</td>\n",
       "    </tr>\n",
       "    <tr>\n",
       "      <th>3</th>\n",
       "      <td>2020-12-05</td>\n",
       "      <td>10:56:10</td>\n",
       "      <td>417042</td>\n",
       "    </tr>\n",
       "    <tr>\n",
       "      <th>4</th>\n",
       "      <td>2020-12-05</td>\n",
       "      <td>10:55:59</td>\n",
       "      <td>417953</td>\n",
       "    </tr>\n",
       "  </tbody>\n",
       "</table>\n",
       "</div>"
      ],
      "text/plain": [
       "         date      time  username\n",
       "0  2020-12-05  10:56:30    138087\n",
       "1  2020-12-05  10:56:27    384347\n",
       "2  2020-12-05  10:56:14    236827\n",
       "3  2020-12-05  10:56:10    417042\n",
       "4  2020-12-05  10:55:59    417953"
      ]
     },
     "execution_count": 4,
     "metadata": {},
     "output_type": "execute_result"
    }
   ],
   "source": [
    "df_final.head()"
   ]
  },
  {
   "cell_type": "code",
   "execution_count": 5,
   "metadata": {},
   "outputs": [],
   "source": [
    "#Formatt the date time in a manageable form\n",
    "df_final['date'] =  df_final['date'] + \" \" + df_final['time']\n",
    "df_final[\"date\"] = df_final[\"date\"].astype(\"datetime64\")\n",
    "\n"
   ]
  },
  {
   "cell_type": "code",
   "execution_count": 6,
   "metadata": {},
   "outputs": [
    {
     "data": {
      "text/html": [
       "<div>\n",
       "<style scoped>\n",
       "    .dataframe tbody tr th:only-of-type {\n",
       "        vertical-align: middle;\n",
       "    }\n",
       "\n",
       "    .dataframe tbody tr th {\n",
       "        vertical-align: top;\n",
       "    }\n",
       "\n",
       "    .dataframe thead th {\n",
       "        text-align: right;\n",
       "    }\n",
       "</style>\n",
       "<table border=\"1\" class=\"dataframe\">\n",
       "  <thead>\n",
       "    <tr style=\"text-align: right;\">\n",
       "      <th></th>\n",
       "      <th>date</th>\n",
       "      <th>username</th>\n",
       "    </tr>\n",
       "  </thead>\n",
       "  <tbody>\n",
       "    <tr>\n",
       "      <th>0</th>\n",
       "      <td>2020-12-05 10:56:30</td>\n",
       "      <td>138087</td>\n",
       "    </tr>\n",
       "    <tr>\n",
       "      <th>1</th>\n",
       "      <td>2020-12-05 10:56:27</td>\n",
       "      <td>384347</td>\n",
       "    </tr>\n",
       "    <tr>\n",
       "      <th>2</th>\n",
       "      <td>2020-12-05 10:56:14</td>\n",
       "      <td>236827</td>\n",
       "    </tr>\n",
       "    <tr>\n",
       "      <th>3</th>\n",
       "      <td>2020-12-05 10:56:10</td>\n",
       "      <td>417042</td>\n",
       "    </tr>\n",
       "    <tr>\n",
       "      <th>4</th>\n",
       "      <td>2020-12-05 10:55:59</td>\n",
       "      <td>417953</td>\n",
       "    </tr>\n",
       "    <tr>\n",
       "      <th>...</th>\n",
       "      <td>...</td>\n",
       "      <td>...</td>\n",
       "    </tr>\n",
       "    <tr>\n",
       "      <th>305775</th>\n",
       "      <td>2011-05-23 15:33:41</td>\n",
       "      <td>90866</td>\n",
       "    </tr>\n",
       "    <tr>\n",
       "      <th>305776</th>\n",
       "      <td>2010-07-18 09:15:02</td>\n",
       "      <td>424528</td>\n",
       "    </tr>\n",
       "    <tr>\n",
       "      <th>305777</th>\n",
       "      <td>2009-07-15 10:05:32</td>\n",
       "      <td>515353</td>\n",
       "    </tr>\n",
       "    <tr>\n",
       "      <th>305778</th>\n",
       "      <td>2009-01-16 19:55:41</td>\n",
       "      <td>212995</td>\n",
       "    </tr>\n",
       "    <tr>\n",
       "      <th>305779</th>\n",
       "      <td>2008-10-25 16:02:10</td>\n",
       "      <td>408733</td>\n",
       "    </tr>\n",
       "  </tbody>\n",
       "</table>\n",
       "<p>305780 rows × 2 columns</p>\n",
       "</div>"
      ],
      "text/plain": [
       "                      date  username\n",
       "0      2020-12-05 10:56:30    138087\n",
       "1      2020-12-05 10:56:27    384347\n",
       "2      2020-12-05 10:56:14    236827\n",
       "3      2020-12-05 10:56:10    417042\n",
       "4      2020-12-05 10:55:59    417953\n",
       "...                    ...       ...\n",
       "305775 2011-05-23 15:33:41     90866\n",
       "305776 2010-07-18 09:15:02    424528\n",
       "305777 2009-07-15 10:05:32    515353\n",
       "305778 2009-01-16 19:55:41    212995\n",
       "305779 2008-10-25 16:02:10    408733\n",
       "\n",
       "[305780 rows x 2 columns]"
      ]
     },
     "execution_count": 6,
     "metadata": {},
     "output_type": "execute_result"
    }
   ],
   "source": [
    "df_final.drop(columns=['time'])"
   ]
  },
  {
   "cell_type": "markdown",
   "metadata": {},
   "source": [
    "# Plot frequency of records by date\n",
    "- essentially counting the records from the input file then plotting the count by day"
   ]
  },
  {
   "cell_type": "code",
   "execution_count": 7,
   "metadata": {},
   "outputs": [
    {
     "data": {
      "image/png": "[encoded data removed]",
      "text/plain": [
       "<Figure size 1080x288 with 1 Axes>"
      ]
     },
     "metadata": {
      "needs_background": "light"
     },
     "output_type": "display_data"
    }
   ],
   "source": [
    "\n",
    "plt.figure(figsize=(15,4))\n",
    "data = df_final[df_final['date']>='2020-11-27']['date'].groupby(df_final[\"date\"].dt.day).count().plot(kind=\"bar\")\n",
    "plt.savefig('filename.png')"
   ]
  },
  {
   "cell_type": "markdown",
   "metadata": {},
   "source": [
    "Lets plot the histogram by hour"
   ]
  },
  {
   "cell_type": "code",
   "execution_count": 8,
   "metadata": {},
   "outputs": [
    {
     "data": {
      "text/plain": [
       "<AxesSubplot:>"
      ]
     },
     "execution_count": 8,
     "metadata": {},
     "output_type": "execute_result"
    },
    {
     "data": {
      "image/png": "[encoded data removed]",
      "text/plain": [
       "<Figure size 432x288 with 1 Axes>"
      ]
     },
     "metadata": {
      "needs_background": "light"
     },
     "output_type": "display_data"
    }
   ],
   "source": [
    "#df_final['date'].dt.hour.hist(bins=50)\n",
    "df_final['date'].dt.hour.hist(bins=50)"
   ]
  },
  {
   "cell_type": "code",
   "execution_count": 9,
   "metadata": {},
   "outputs": [],
   "source": [
    "## Cumulative Distribution Function\n",
    "df_final.drop(columns=['time'])\n",
    "byhour = df_final[df_final['date']>='2020-11-27']['date'].groupby([df_final[\"date\"].dt.day, df_final[\"date\"].dt.hour]).count()#.plot(kind=\"bar\")\n",
    "byhour_users = df_final[(df_final['date']>='2020-11-27') & (df_final['date']<='2020-11-29')][['date', 'username']]#.plot(kind=\"bar\")\n",
    "#dates = df_final['date'].to_numpy()\n",
    "#users = df_final['user'].to_numpy()"
   ]
  },
  {
   "cell_type": "markdown",
   "metadata": {},
   "source": [
    "This cell works to process tweets per hour"
   ]
  },
  {
   "cell_type": "code",
   "execution_count": 10,
   "metadata": {},
   "outputs": [],
   "source": [
    "d_t = [27, 28, 29, 30, 1, 2, 3, 4, 5]\n",
    "series_time = []\n",
    "series_label = []\n",
    "total_count = 0\n",
    "cumulator = 0\n",
    "daycount = 0\n",
    "hourcount = 0\n",
    "max_tph = {'day': 0, 'hour': 0, 'tph': 0}\n",
    "for dt in d_t:\n",
    "    daycount = 1\n",
    "    hourcount = 0\n",
    "    for d in byhour[dt]:\n",
    "        hourcount+=1\n",
    "        if d > max_tph['tph']:\n",
    "            max_tph['tph']=d\n",
    "            max_tph['day']=dt\n",
    "            max_tph['hour']=hourcount\n",
    "        cumulator += d\n",
    "        total_count += 1\n",
    "        series_time.append(cumulator)        \n",
    "        series_label.append(str(dt)+\"-\"+str(daycount))\n",
    "        #print(str(dt)+\"-\"+str(daycount), cumulator)\n",
    "        daycount+=1"
   ]
  },
  {
   "cell_type": "code",
   "execution_count": 11,
   "metadata": {},
   "outputs": [
    {
     "name": "stdout",
     "output_type": "stream",
     "text": [
      "{'day': 27, 'hour': 22, 'tph': 38991}  : average tph =  1395.8325123152708\n"
     ]
    }
   ],
   "source": [
    "print(max_tph, \" : average tph = \", (cumulator/total_count))"
   ]
  },
  {
   "cell_type": "markdown",
   "metadata": {},
   "source": [
    "# Cumulative tweet record plot\n",
    "The values for this plot are processed a few cells earlier"
   ]
  },
  {
   "cell_type": "code",
   "execution_count": 12,
   "metadata": {},
   "outputs": [
    {
     "data": {
      "text/plain": [
       "[<matplotlib.lines.Line2D at 0x7f5893a318d0>]"
      ]
     },
     "execution_count": 12,
     "metadata": {},
     "output_type": "execute_result"
    },
    {
     "data": {
      "image/png": "[encoded data removed]",
      "text/plain": [
       "<Figure size 1080x288 with 1 Axes>"
      ]
     },
     "metadata": {
      "needs_background": "light"
     },
     "output_type": "display_data"
    },
    {
     "data": {
      "image/png": "[encoded data removed]",
      "text/plain": [
       "<Figure size 1080x288 with 1 Axes>"
      ]
     },
     "metadata": {
      "needs_background": "light"
     },
     "output_type": "display_data"
    }
   ],
   "source": [
    "\n",
    "\n",
    "myLocator = mticker.MultipleLocator(25)\n",
    "fig, ax = plt.subplots(figsize=(15, 4))\n",
    "ax.xaxis.set_major_locator(myLocator)\n",
    "ax.set_xlabel(\"day-hour\")\n",
    "ax.set_ylabel(\"counts\")\n",
    "ax.bar(series_label, series_time, align='center', width=1)\n",
    "\n",
    "plt.figure(figsize=(15,4))\n",
    "plt.gca().xaxis.set_major_formatter(dates.DateFormatter('%d-%h'))\n",
    "plt.plot(series_label, series_time)\n",
    "#plt.gcf().autofmt_xdate()"
   ]
  },
  {
   "cell_type": "code",
   "execution_count": 13,
   "metadata": {},
   "outputs": [],
   "source": [
    "# Rate for just day 28\n",
    "# byhour is dictionary of list of results with key being day\n",
    "day27_28 = {}\n",
    "days = [27, 28, 29]\n",
    "hour = 1\n",
    "Label_27_28 = []\n",
    "Series_27_28 = []\n",
    "users_27_28 = []\n",
    "for d in days:\n",
    "    #print(byhour[d])\n",
    "    for a in byhour[d]:\n",
    "        day27_28[hour] = a        \n",
    "        Label_27_28.append(hour)\n",
    "        Series_27_28.append(a)      \n",
    "        #users_27_28.append(byhour_users[d])\n",
    "        hour+=1\n",
    "        "
   ]
  },
  {
   "cell_type": "markdown",
   "metadata": {},
   "source": [
    "# Identify the peak timeframe and measure of BidenCheated tweets"
   ]
  },
  {
   "cell_type": "code",
   "execution_count": 14,
   "metadata": {},
   "outputs": [
    {
     "name": "stdout",
     "output_type": "stream",
     "text": [
      "date\n",
      "0         7\n",
      "1         7\n",
      "2         4\n",
      "3         3\n",
      "4         2\n",
      "5         2\n",
      "6         3\n",
      "7         2\n",
      "8        70\n",
      "9        50\n",
      "10       80\n",
      "11       86\n",
      "12       81\n",
      "13       77\n",
      "14       87\n",
      "15      119\n",
      "16       97\n",
      "17      188\n",
      "18     3030\n",
      "19     7041\n",
      "20    25912\n",
      "21    38991\n",
      "22    27256\n",
      "23    16172\n",
      "Name: date, dtype: int64\n",
      "2020-11-27 00:00:00 2020-11-27 01:00:00 7\n",
      "2020-11-27 01:00:00 2020-11-27 02:00:00 7\n",
      "2020-11-27 02:00:00 2020-11-27 03:00:00 4\n",
      "2020-11-27 03:00:00 2020-11-27 04:00:00 3\n",
      "2020-11-27 04:00:00 2020-11-27 05:00:00 2\n",
      "2020-11-27 05:00:00 2020-11-27 06:00:00 2\n",
      "2020-11-27 06:00:00 2020-11-27 07:00:00 3\n",
      "2020-11-27 07:00:00 2020-11-27 08:00:00 2\n",
      "2020-11-27 08:00:00 2020-11-27 09:00:00 70\n",
      "2020-11-27 09:00:00 2020-11-27 010:00:00 50\n",
      "2020-11-27 010:00:00 2020-11-27 011:00:00 80\n",
      "2020-11-27 011:00:00 2020-11-27 012:00:00 86\n",
      "2020-11-27 012:00:00 2020-11-27 013:00:00 81\n",
      "2020-11-27 013:00:00 2020-11-27 014:00:00 77\n",
      "2020-11-27 014:00:00 2020-11-27 015:00:00 87\n",
      "2020-11-27 015:00:00 2020-11-27 016:00:00 119\n",
      "2020-11-27 016:00:00 2020-11-27 017:00:00 97\n",
      "2020-11-27 017:00:00 2020-11-27 018:00:00 188\n",
      "2020-11-27 018:00:00 2020-11-27 019:00:00 3030\n",
      "2020-11-27 019:00:00 2020-11-27 020:00:00 7041\n",
      "2020-11-27 020:00:00 2020-11-27 021:00:00 25912\n",
      "2020-11-27 021:00:00 2020-11-27 022:00:00 38991\n",
      "2020-11-27 022:00:00 2020-11-27 023:00:00 27256\n",
      "2020-11-27 023:00:00 2020-11-28 00:00:00 16172\n"
     ]
    }
   ],
   "source": [
    "## Getting the user names tweeting in each hour\n",
    "\n",
    "#df_final[(df_final['date']>='2020-11-27') & (df_final['date']<='2020-11-29')]\n",
    "#t = 1\n",
    "print(byhour[27])\n",
    "for t in range(0,24):        \n",
    "    timeStart = '2020-11-27 0'+str(t)+':00:00'\n",
    "    \n",
    "    if t == 23:\n",
    "        timeEnd = '2020-11-28 00:00:00'            \n",
    "    else:\n",
    "        timeEnd = '2020-11-27 0'+str(t+1)+':00:00'    \n",
    "       \n",
    "    print(timeStart, timeEnd, len(byhour_users[(byhour_users['date']>=timeStart) & (byhour_users['date']<timeEnd)]))"
   ]
  },
  {
   "cell_type": "markdown",
   "metadata": {},
   "source": [
    "# Plot of the peak time frame frequency"
   ]
  },
  {
   "cell_type": "code",
   "execution_count": 15,
   "metadata": {},
   "outputs": [
    {
     "data": {
      "text/plain": [
       "<Figure size 1080x288 with 0 Axes>"
      ]
     },
     "execution_count": 15,
     "metadata": {},
     "output_type": "execute_result"
    },
    {
     "data": {
      "image/png": "[encoded data removed]",
      "text/plain": [
       "<Figure size 1080x288 with 1 Axes>"
      ]
     },
     "metadata": {
      "needs_background": "light"
     },
     "output_type": "display_data"
    },
    {
     "data": {
      "text/plain": [
       "<Figure size 1080x288 with 0 Axes>"
      ]
     },
     "metadata": {},
     "output_type": "display_data"
    }
   ],
   "source": [
    "\n",
    "\n",
    "myLocator = mticker.MultipleLocator(25)\n",
    "fig, ax = plt.subplots(figsize=(15, 4))\n",
    "ax.xaxis.set_major_locator(myLocator)\n",
    "ax.set_xlabel(\"hour from 11-27\")\n",
    "ax.set_ylabel(\"counts\")\n",
    "ax.bar(Label_27_28, Series_27_28, align='center', width=0.5)\n",
    "\n",
    "plt.figure(figsize=(15,4))\n",
    "#plt.gca().xaxis.set_major_formatter(dates.DateFormatter('%h'))\n",
    "#plt.plot(Label_27_28, Series_27_28)"
   ]
  },
  {
   "cell_type": "code",
   "execution_count": null,
   "metadata": {},
   "outputs": [],
   "source": []
  },
  {
   "cell_type": "markdown",
   "metadata": {},
   "source": [
    "# This cell block reads in the follower data\n",
    "- Utilize directory structure as\n",
    "* /followers\n",
    "  * account_follwers.csv (csv list of accounts that folllow)"
   ]
  },
  {
   "cell_type": "code",
   "execution_count": null,
   "metadata": {},
   "outputs": [
    {
     "name": "stdout",
     "output_type": "stream",
     "text": [
      "complete accomplices:  689568  New Accomplices:  102979\n"
     ]
    }
   ],
   "source": [
    "bots = {}\n",
    "newAccomplices = df_final['username'].unique()\n",
    "# ID Mapping: [152565, 136371, 215988]\n",
    "targets_Interest = ['vampirestilez', 'starcisco', 'carlosvaldick']\n",
    "parents = []\n",
    "lines = []\n",
    "\n",
    "for directory, subdirectories, files in os.walk('followers'):\n",
    "    for file in files:\n",
    "        if(directory == 'followers'):\n",
    "            #print(os.path.join(directory, file))\n",
    "            #if file.split('_')[0] in targets_Interest:\n",
    "            parents.append(file.split('_')[0])\n",
    "            file1 = open('followers/'+file, 'r')\n",
    "            lines.append(file1.readlines())\n",
    "            file1.close()\n",
    "\n",
    "completeAccomplices = []\n",
    "targets_and_accomplices = []\n",
    "\n",
    "# Gets all users from followers folder\n",
    "for p in range(0,len(parents)):\n",
    "    for l in lines[p]:\n",
    "        completeAccomplices.append(l.split(\"\\n\")[0])\n",
    "print(\"complete accomplices: \", len(completeAccomplices), \" New Accomplices: \", len(newAccomplices))\n",
    "\n",
    "forgottenUsers = []\n",
    "\n",
    "# Gets all users from bidencheated tweets\n",
    "for f in newAccomplices:\n",
    "    if f not in completeAccomplices:\n",
    "        completeAccomplices.append(f)\n",
    "#print(lines[0][0])\n",
    "#print(newAccomplices[0])\n",
    "print(len(completeAccomplices))            "
   ]
  },
  {
   "cell_type": "code",
   "execution_count": null,
   "metadata": {},
   "outputs": [],
   "source": [
    "len()"
   ]
  },
  {
   "cell_type": "markdown",
   "metadata": {},
   "source": [
    "# Read in bot scores from botometer\n",
    "- this data is csv of username, botScore"
   ]
  },
  {
   "cell_type": "code",
   "execution_count": null,
   "metadata": {},
   "outputs": [],
   "source": [
    "bots = {}\n",
    "with open(\"botometer_scores.csv\",'r') as data:\n",
    "    for line in csv.reader(data):\n",
    "        bots[line[0]]=float(line[1])\n",
    "       \n",
    "           "
   ]
  },
  {
   "cell_type": "markdown",
   "metadata": {},
   "source": [
    "# Define the master networks\n",
    "## Networks will be handled as layers where each additional layer is a subgraph of the master network. This allows us to layer subraphs over the master network with different settings\n",
    "1. Master network\n",
    "2. Peak hour subgraph\n",
    "3. Bridge link network subgraph\n",
    "4. High centrality node network subgraph\n",
    "5. Nodes determined to be in cliques network subgraph\n",
    "6. Bots and bridge link network subgraph\n",
    "7. peak hour subgraph without bots"
   ]
  },
  {
   "cell_type": "code",
   "execution_count": null,
   "metadata": {},
   "outputs": [],
   "source": [
    "def addEdge(twit1, twit2):\n",
    "    G.add_edge(twit1, twit2)\n",
    "    \n",
    "# Create the Master graph\n",
    "G = nx.Graph()\n",
    "\n",
    "## For parent and followers\n",
    "for p in range(0,len(parents)):    \n",
    "    #if parents[p] in targets_Interest:\n",
    "    for l in lines[p]:    \n",
    "        user = l.split(\"\\n\")[0]\n",
    "        #if user in bots:\n",
    "        addEdge(parents[p], user)   "
   ]
  },
  {
   "cell_type": "code",
   "execution_count": null,
   "metadata": {},
   "outputs": [],
   "source": [
    "print(len(G.nodes), len(G.edges))\n"
   ]
  },
  {
   "cell_type": "code",
   "execution_count": null,
   "metadata": {},
   "outputs": [],
   "source": [
    "#For master graph\n",
    "botScores = {}\n",
    "nodeColors = {}\n",
    "nodeSizes = {}\n",
    "user_lables = {}\n",
    "\n",
    "colorMap = ['black', 'blue', 'green', 'yellow', 'orange', 'red']\n",
    "sizeMap = [10, 20, 50, 100, 200, 300]\n",
    "targets_Interest = ['vampirestilez', 'starcisco', 'carlosvaldick', 'redwavewwg1', 'jayesco78']\n",
    "\n",
    "for n in G.nodes: \n",
    "    # Check for bots\n",
    "    # This is used for Bots, target, \n",
    "    if n in bots:\n",
    "        bs = bots[n]\n",
    "        bs = int(round(bs))\n",
    "        botScores[n] = bs\n",
    "        nodeColors[n] = colorMap[bs]\n",
    "        nodeSizes[n] = sizeMap[bs]        \n",
    "        \n",
    "    else:\n",
    "        bs = 0\n",
    "        botScores[n] = bs\n",
    "        nodeColors[n] = colorMap[bs]\n",
    "        nodeSizes[n] = sizeMap[bs]"
   ]
  },
  {
   "cell_type": "code",
   "execution_count": null,
   "metadata": {},
   "outputs": [],
   "source": [
    "print(len(G.nodes), len(G.edges))\n",
    "#pos = nx.spring_layout(G,k=1,iterations=1)\n",
    "len(bots)\n",
    "print(targets_Interest)"
   ]
  },
  {
   "cell_type": "markdown",
   "metadata": {},
   "source": [
    "# Process and plot network by hour\n",
    "(final network plot is the peak hour)"
   ]
  },
  {
   "cell_type": "code",
   "execution_count": null,
   "metadata": {},
   "outputs": [],
   "source": [
    "# Graph by hour demonstrate the rate\n",
    "\n",
    "#for t in range(0,24):        \n",
    "graph_collection = []\n",
    "edgeColors = ['RGB(193,193,193)', 'RGB(183,183,183)', 'RGB(142,142,142)', 'RGB(132,132,132)', 'RGB(91,91,91)', 'RGB(81,81,81)']\n",
    "\n",
    "hourly_subgraph = []\n",
    "hoursub_Colors = {}\n",
    "hoursub_Sizes = {}\n",
    "hoursub_Labels = {}\n",
    "hour_lables = {}\n",
    "e_color = {}\n",
    "pos = {}\n",
    "priorPOS = {}\n",
    "testedBool = False\n",
    "\n",
    "for t in targets_Interest:\n",
    "    hour_lables[t] = t\n",
    "\n",
    "for t in range(0,24):  \n",
    "    #hourly_subgraph = []\n",
    "    used = {}\n",
    "    timeStart = '2020-11-27 0'+str(t)+':00:00'\n",
    "    \n",
    "    if t == 23:\n",
    "        timeEnd = '2020-11-28 00:00:00'            \n",
    "    else:\n",
    "        timeEnd = '2020-11-27 0'+str(t+1)+':00:00'    \n",
    "        \n",
    "    hourlyUsers = byhour_users[(byhour_users['date']>=timeStart) & (byhour_users['date']<timeEnd)].to_numpy()\n",
    "    \n",
    "    if targets_Interest[0] in hourlyUsers or targets_Interest[1] in hourlyUsers or targets_Interest[2] in hourlyUsers:\n",
    "        for targ in targets_Interest:\n",
    "            hourly_subgraph.append(targ)\n",
    "            hoursub_Colors[targ] = nodeColors[targ]\n",
    "            hoursub_Sizes[targ] = nodeSizes[targ]\n",
    "            hoursub_Labels[targ] = targ\n",
    "        print(\"play ball\")\n",
    "        for d, u in hourlyUsers:\n",
    "            if u in G.nodes:            \n",
    "                hourly_subgraph.append(u)\n",
    "                hoursub_Colors[u] = nodeColors[u]\n",
    "                hoursub_Sizes[u] = nodeSizes[u]\n",
    "                hoursub_Labels[u] = u\n",
    "                #hour_lables[u] = u\n",
    "            #else:\n",
    "                #print(\"missing \", u)\n",
    "        \n",
    "        \n",
    "        \n",
    "        G_sub = G.subgraph(hourly_subgraph)\n",
    "        degreeHourly = []\n",
    "        hourly_subgraph = []\n",
    "        hoursub_Colors = {}\n",
    "        hoursub_Sizes = {}\n",
    "        hoursub_Labels = {}\n",
    "        #hour_lables = {}\n",
    "        for node, val in G_sub.degree():\n",
    "            if val >= 2 or node in targets_Interest:            \n",
    "                degreeHourly.append(node)\n",
    "                hourly_subgraph.append(node)\n",
    "                hoursub_Colors[node] = nodeColors[node]\n",
    "                hoursub_Sizes[node] = nodeSizes[node]\n",
    "                hoursub_Labels[node] = node\n",
    "                #hour_lables[node] = node\n",
    "                if val > 500:\n",
    "                    hour_lables[node] = node\n",
    "\n",
    "\n",
    "        G_sub = G_sub.subgraph(degreeHourly)\n",
    "        graph_collection.append(G_sub)\n",
    "        print(timeStart, timeEnd, len(byhour_users[(byhour_users['date']>=timeStart) & (byhour_users['date']<timeEnd)]), len(hourly_subgraph)) \n",
    "\n",
    "        if testedBool:\n",
    "            for k in degreeHourly:\n",
    "                if k in priorPOS:\n",
    "                    used[k] = priorPOS[k]\n",
    "            #used = {k: priorPOS[k] for k in degreeHourly}\n",
    "            pos = nx.spring_layout(G_sub, k=1, pos=used, fixed=list(used.keys()), iterations=5)\n",
    "        else:\n",
    "            pos = nx.spring_layout(G_sub,k=1, iterations=5)\n",
    "            testedBool = True\n",
    "\n",
    "        priorPOS = {**pos, **priorPOS}\n",
    "        plt.figure(figsize=(20,20))\n",
    "        nx.draw_networkx(G_sub, pos=pos, labels=hour_lables, node_color=list(hoursub_Colors.values()),edge_color='grey',font_size=20,font_color='b', node_size=list(hoursub_Sizes.values()))\n",
    "        plt.savefig(timeStart+\" hour_graph.png\")\n",
    "    else:\n",
    "        print(\"no dice\")"
   ]
  },
  {
   "cell_type": "markdown",
   "metadata": {},
   "source": [
    "# Produce quantitative measure to understand the connectivity properties and efficiency of the peak hour network (last network generated from prior step)"
   ]
  },
  {
   "cell_type": "code",
   "execution_count": null,
   "metadata": {},
   "outputs": [],
   "source": [
    "from scipy import stats\n",
    "from operator import itemgetter\n",
    "\n",
    "graph_centrality = nx.degree_centrality(G_sub) #\n",
    "max_de = max(graph_centrality.items(), key=itemgetter(1))\n",
    "graph_closeness = nx.closeness_centrality(G_sub)\n",
    "max_clo = max(graph_closeness.items(), key=itemgetter(1))\n",
    "graph_betweenness = nx.betweenness_centrality(G_sub, normalized=True, endpoints=False)\n",
    "max_bet = max(graph_betweenness.items(), key=itemgetter(1))\n",
    "graph_communicable = nx.communicability(G_sub)\n"
   ]
  },
  {
   "cell_type": "markdown",
   "metadata": {},
   "source": [
    "Print and report results from the quantitative measures"
   ]
  },
  {
   "cell_type": "code",
   "execution_count": null,
   "metadata": {},
   "outputs": [],
   "source": [
    "print(graph_centrality['starcisco'], max_de)\n",
    "print(graph_communicable['jayesco78']['redwavewwg1'])\n",
    "print(graph_communicable['redwavewwg1']['starcisco'])\n",
    "print(graph_communicable['jayesco78']['starcisco'])\n",
    "print(graph_communicable['vampirestilez']['starcisco'])\n",
    "\n",
    "graph_numpy = np.array(list(graph_centrality.values()))\n",
    "print(\"Average centrality = \", np.average(graph_numpy), \": Maximum Centrality = \", np.max(graph_numpy))\n",
    "print(\"Average closeness = \", np.average(list(graph_closeness.values())), \": Maximum Closeness = \", np.max(list(graph_closeness.values())))\n",
    "print(\"Average betweeness = \", np.average(list(graph_betweenness.values())), \": Maximum betweenness = \", np.max(list(graph_betweenness.values())))"
   ]
  },
  {
   "cell_type": "code",
   "execution_count": null,
   "metadata": {},
   "outputs": [],
   "source": []
  },
  {
   "cell_type": "code",
   "execution_count": null,
   "metadata": {},
   "outputs": [],
   "source": [
    "#graph_closeness['jayesco78']\n",
    "print(max_de, max_clo, max_bet)"
   ]
  },
  {
   "cell_type": "code",
   "execution_count": null,
   "metadata": {},
   "outputs": [],
   "source": [
    "cliques = list(nx.find_cliques(G_sub)) # gives lists of lists of cliques, but most are length 2...\n",
    "ds = nx.dominating_set(G_sub) # gives a list of dominating nodes large number of connections\n",
    "bridges = list(nx.bridges(G_sub))"
   ]
  },
  {
   "cell_type": "code",
   "execution_count": null,
   "metadata": {},
   "outputs": [],
   "source": [
    "bri = []\n",
    "for b in bridges:\n",
    "    bri.append(b)\n",
    "\n",
    "\n",
    "print(\"dominating set = \", len(ds), \": Total set = \", len(G_sub.nodes()), \": number of Bridges = \", len(bri), \": number of Cliques = \", len(list(cliques)))\n"
   ]
  },
  {
   "cell_type": "code",
   "execution_count": null,
   "metadata": {},
   "outputs": [],
   "source": [
    "cliq = []\n",
    "for c in cliques:\n",
    "    cliq.append(c)\n",
    "    \n",
    "print(len(cliq), len(cliq[6481]))"
   ]
  },
  {
   "cell_type": "code",
   "execution_count": null,
   "metadata": {},
   "outputs": [],
   "source": [
    "#Cliques \n",
    "maxCliq = 0\n",
    "maxCliqName = 0\n",
    "cliqArray = []\n",
    "\n",
    "for i in range(0,len(cliq)):\n",
    "    if len(cliq[i]) > maxCliq:\n",
    "        maxCliq = len(cliq[i])\n",
    "        maxCliqName = i\n",
    "        \n",
    "    if len(cliq[i]) > 3:\n",
    "        cliqArray.append(i)\n",
    "print(maxCliq, cliq[maxCliqName], len(cliqArray))\n",
    "\n",
    "for i in cliqArray:\n",
    "    print(cliq[i])\n",
    "  \n"
   ]
  },
  {
   "cell_type": "markdown",
   "metadata": {},
   "source": [
    "# This section produces all of the other subgraphs that are built on the hour subgraph shown and measured in the prior sections"
   ]
  },
  {
   "cell_type": "code",
   "execution_count": null,
   "metadata": {},
   "outputs": [],
   "source": [
    "bridge_subgraph = []\n",
    "bridgePOS = {}\n",
    "bridge_Colors = {}\n",
    "bridge_Sizes = {}\n",
    "bridge_labels = {}\n",
    "for b in bri:    \n",
    "        for bb in b:\n",
    "            #if bb == 'redwavewwg1' or bb=='cheeseslave':\n",
    "            bridge_subgraph.append(bb)\n",
    "            bridgePOS[bb] = priorPOS[bb]\n",
    "            bridge_Colors[bb] = nodeColors[bb]\n",
    "            bridge_Sizes[bb] = nodeSizes[bb]\n",
    "            bridge_labels[bb] = bb\n",
    "\n",
    "cent_subgraph = []\n",
    "centPOS = {}\n",
    "cent_Colors = {}\n",
    "cent_Sizes = {}\n",
    "cent_labels = {}\n",
    "for g in graph_centrality:\n",
    "    if graph_centrality[g] > 0.1:\n",
    "        #print(a, graph_centrality[a])\n",
    "        cent_subgraph.append(g)\n",
    "        centPOS[g] = priorPOS[g]\n",
    "        cent_Colors[g] = nodeColors[g]\n",
    "        cent_Sizes[g] = nodeSizes[g]\n",
    "        cent_labels[g] = g\n",
    "\n",
    "cliq_subgraph = []\n",
    "cliqPOS = {}\n",
    "cliq_Colors = {}\n",
    "cliq_Sizes = {}\n",
    "cliq_labels = {}\n",
    "for a in cliqArray:  \n",
    "    for g in cliq[a]:        \n",
    "        cliq_subgraph.append(g)\n",
    "        cliqPOS[g] = priorPOS[g]\n",
    "        cliq_Colors[g] = nodeColors[g]\n",
    "        cliq_Sizes[g] = nodeSizes[g]\n",
    "        cliq_labels[g] = g        \n",
    "        \n",
    "bot_subgraph = []\n",
    "botPOS = {}\n",
    "bot_Colors = {}\n",
    "bot_Sizes = {}\n",
    "bot_labels = {}   \n",
    "\n",
    "edgeColor = []\n",
    "alphaEdge = []\n",
    "for e in G_sub.edges:\n",
    "    if e[0] in bridge_subgraph and e[1] in bridge_subgraph:\n",
    "        edgeColor.append('blue')\n",
    "        alphaEdge.append(0.5)\n",
    "    else:\n",
    "        edgeColor.append('grey')\n",
    "        alphaEdge.append(0.5)\n",
    "        \n",
    "    if e[0] in bots:\n",
    "        if bots[e[0]] >= 4:            \n",
    "            bot_subgraph.append(e[0])\n",
    "            botPOS[e[0]] = pos[e[0]]\n",
    "            bot_Colors[e[0]] = nodeColors[e[0]]\n",
    "            bot_Sizes[e[0]] = nodeSizes[e[0]]\n",
    "            bot_labels[e[0]] = e[0]\n",
    "            bot_subgraph.append(e[1])\n",
    "            botPOS[e[1]] = pos[e[1]]\n",
    "            bot_Colors[e[1]] = nodeColors[e[1]]\n",
    "            bot_Sizes[e[1]] = nodeSizes[e[1]]\n",
    "            bot_labels[e[1]] = e[1] \n",
    "    if e[1] in bots:\n",
    "        if bots[e[1]] >= 4:\n",
    "            bot_subgraph.append(e[0])\n",
    "            botPOS[e[0]] = pos[e[0]]\n",
    "            bot_Colors[e[0]] = nodeColors[e[0]]\n",
    "            bot_Sizes[e[0]] = nodeSizes[e[0]]\n",
    "            bot_labels[e[0]] = e[0]\n",
    "            bot_subgraph.append(e[1])\n",
    "            botPOS[e[1]] = pos[e[1]]\n",
    "            bot_Colors[e[1]] = nodeColors[e[1]]\n",
    "            bot_Sizes[e[1]] = nodeSizes[e[1]]\n",
    "            bot_labels[e[1]] = e[1] \n",
    "            \n",
    "        #print(e[0], e[1])\n",
    "        #if nodeSizes[e[1]] > 200:\n",
    "        #    bridge_subgraph.append(e[1])\n",
    "        #    bridgePOS[e[1]] = priorPOS[e[1]]\n",
    "        #    bridge_Colors[e[1]] = nodeColors[e[1]]\n",
    "        #    bridge_Sizes[e[1]] = nodeSizes[e[1]]        \n",
    "\n",
    "nobot_subgraph = []\n",
    "nobotPOS = {}\n",
    "nobot_Colors = {}\n",
    "nobot_Sizes = {}\n",
    "nobot_labels = {}\n",
    "for a in G_sub:\n",
    "    if a not in bots:\n",
    "        nobot_subgraph.append(a)\n",
    "        nobotPOS[a] = priorPOS[a]\n",
    "        nobot_Colors[a] = nodeColors[a]\n",
    "        nobot_Sizes[a] = nodeSizes[a]\n",
    "        nobot_labels[a] = a         \n",
    "    elif bots[a] < 4:\n",
    "        nobot_subgraph.append(a)\n",
    "        nobotPOS[a] = priorPOS[a]\n",
    "        nobot_Colors[a] = nodeColors[a]\n",
    "        nobot_Sizes[a] = nodeSizes[a]\n",
    "        nobot_labels[a] = a \n",
    "        \n",
    "gSubSub = G_sub.subgraph(bridge_subgraph)\n",
    "gCentSub = G_sub.subgraph(cent_subgraph)\n",
    "gBotSub = G_sub.subgraph(bot_subgraph)\n",
    "gCliqSub = G_sub.subgraph(cliq_subgraph)\n",
    "gNoBots = G_sub.subgraph(nobot_subgraph)\n",
    "print(len(bot_subgraph))#, centPOS)"
   ]
  },
  {
   "cell_type": "markdown",
   "metadata": {},
   "source": [
    "# For this type of network the Kamada Kawai layout method ended up looking better\n",
    "## for layering networks we need to make sure we utilize the same positions for each node, this is done using the variables for each subgraph that contain POS (stands for position, not other crude accroym ;p )"
   ]
  },
  {
   "cell_type": "code",
   "execution_count": null,
   "metadata": {},
   "outputs": [],
   "source": [
    "#newpos = nx.spring_layout(G_sub,k=1, iterations=10)\n",
    "#newpos = nx.spectral_layout(G_sub)\n",
    "newpos = nx.kamada_kawai_layout(G_sub)"
   ]
  },
  {
   "cell_type": "code",
   "execution_count": null,
   "metadata": {},
   "outputs": [],
   "source": []
  },
  {
   "cell_type": "markdown",
   "metadata": {},
   "source": [
    "# Plot of highest centrality measured nodes overlayed on top of the peak hour subgraph\n",
    "- In general for successful network plotting we need to utilize the alpha parameter otherwise we don't see the overlapping segments and nodes\n",
    "- We draw the base network which is the peak hour subgraph using the alpha parameter to make the nodes and edges transparent\n",
    "- Then draw the high centrality network using no alpha and colors that make the nodes and edges pop"
   ]
  },
  {
   "cell_type": "code",
   "execution_count": null,
   "metadata": {},
   "outputs": [],
   "source": [
    "plt.figure(figsize=(20,20))\n",
    "nx.draw_networkx(G_sub, pos=newpos, with_labels=False, node_color=list(hoursub_Colors.values()),edge_color='grey', alpha=0.3,font_size=20,font_color='b', node_size=list(hoursub_Sizes.values()))\n",
    "nx.draw_networkx(gCentSub, pos=newpos, labels=cent_labels, node_color=list(cent_Colors.values()),edge_color='blue', font_size=18, font_color='b', node_size=list(cent_Sizes.values()))\n",
    "plt.savefig(\"centrality_hour_graph.png\")"
   ]
  },
  {
   "cell_type": "markdown",
   "metadata": {},
   "source": [
    "Same approach except we are overlaying the clique measurement network"
   ]
  },
  {
   "cell_type": "code",
   "execution_count": null,
   "metadata": {},
   "outputs": [],
   "source": [
    "plt.figure(figsize=(20,20))\n",
    "nx.draw_networkx(G_sub, pos=newpos, with_labels=False, node_color=list(hoursub_Colors.values()),edge_color='grey', alpha=0.3,font_size=20,font_color='b', node_size=list(hoursub_Sizes.values()))\n",
    "nx.draw_networkx(gCliqSub, pos=newpos, labels=hour_lables, node_color=list(cliq_Colors.values()),edge_color='blue', alpha=0.9, font_size=18, font_color='b', node_size=list(cliq_Sizes.values()))\n",
    "plt.savefig(\"cliques_hour_graph.png\")"
   ]
  },
  {
   "cell_type": "markdown",
   "metadata": {},
   "source": [
    "Same approach except this time overlaying the bridged nodes network"
   ]
  },
  {
   "cell_type": "code",
   "execution_count": null,
   "metadata": {},
   "outputs": [],
   "source": [
    "\n",
    "\n",
    "plt.figure(figsize=(20,20))\n",
    "nx.draw_networkx(G_sub, pos=newpos, with_labels=False, node_color=list(hoursub_Colors.values()),edge_color=edgeColor, alpha=0.3,font_size=20,font_color='b', node_size=list(hoursub_Sizes.values()))\n",
    "nx.draw_networkx(gSubSub, pos=newpos, labels=bridge_labels, node_color=list(bridge_Colors.values()),edge_color='blue', font_size=20, font_color='b', node_size=list(bridge_Sizes.values()))\n",
    "plt.savefig(\"bridged_hour_graph.png\")"
   ]
  },
  {
   "cell_type": "markdown",
   "metadata": {},
   "source": [
    "Same as last chart except we also overlay the nodes scored 4 or greater from botometer. This network is interesting to be able to see the spatial relationship of the bot nodes and edges (red) to the bridge node and edges (blue)"
   ]
  },
  {
   "cell_type": "code",
   "execution_count": null,
   "metadata": {},
   "outputs": [],
   "source": [
    "\n",
    "plt.figure(figsize=(20,20))\n",
    "nx.draw_networkx(G_sub, pos=newpos, with_labels=False, node_color=list(hoursub_Colors.values()),edge_color='grey', alpha=0.15,font_size=20,font_color='b', node_size=list(hoursub_Sizes.values()))\n",
    "nx.draw_networkx(gBotSub, pos=newpos, with_labels=False, node_color=list(bot_Colors.values()),edge_color='red', alpha=0.1, font_size=20, font_color='r', node_size=list(bot_Sizes.values()))\n",
    "nx.draw_networkx(gSubSub, pos=newpos, labels=bridge_labels, node_color=list(bridge_Colors.values()),edge_color='blue', font_size=20, font_color='b', node_size=list(bridge_Sizes.values()))\n",
    "plt.savefig(\"bot_bridge_hour_graph.png\")"
   ]
  },
  {
   "cell_type": "markdown",
   "metadata": {},
   "source": [
    "The final plot does not necessarily need to be drawn, this network is more interesting for the quantitative comparison"
   ]
  },
  {
   "cell_type": "code",
   "execution_count": null,
   "metadata": {},
   "outputs": [],
   "source": [
    "plt.figure(figsize=(20,20))\n",
    "nx.draw_networkx(gNoBots, pos=newpos, with_labels=False, node_color=list(nobot_Colors.values()),edge_color='grey', alpha=0.1, font_size=20, font_color='b', node_size=list(nobot_Sizes.values()))\n",
    "plt.savefig(\"botless_hour_graph.png\")"
   ]
  },
  {
   "cell_type": "markdown",
   "metadata": {},
   "source": [
    "# Perform the same quantitative measures for the subgraph of the peak hour without bots"
   ]
  },
  {
   "cell_type": "code",
   "execution_count": null,
   "metadata": {},
   "outputs": [],
   "source": [
    "nobot_graph_centrality = nx.degree_centrality(gNoBots) #\n",
    "nobot_max_de = max(graph_centrality.items(), key=itemgetter(1))\n",
    "nobot_graph_closeness = nx.closeness_centrality(gNoBots)\n",
    "nobot_max_clo = max(graph_closeness.items(), key=itemgetter(1))\n",
    "nobot_graph_betweenness = nx.betweenness_centrality(gNoBots, normalized=True, endpoints=False)\n",
    "nobot_max_bet = max(graph_betweenness.items(), key=itemgetter(1))\n",
    "nobot_graph_communicable = nx.communicability(gNoBots)"
   ]
  },
  {
   "cell_type": "code",
   "execution_count": null,
   "metadata": {},
   "outputs": [],
   "source": [
    "nobot_cliques = list(nx.find_cliques(gNoBots)) # gives lists of lists of cliques, but most are length 2...\n",
    "nobot_ds = nx.dominating_set(gNoBots) # gives a list of dominating nodes large number of connections\n",
    "nobot_bridges = list(nx.bridges(gNoBots))\n",
    "nobot_closeness_vitality = nx.closeness_vitality(gNoBots)"
   ]
  },
  {
   "cell_type": "code",
   "execution_count": null,
   "metadata": {},
   "outputs": [],
   "source": [
    "totalComm_score = {}\n",
    "tot_score = 0\n",
    "for nb in nobot_graph_communicable:\n",
    "    for n in nobot_graph_communicable[nb]:\n",
    "        tot_score += nobot_graph_communicable[nb][n]\n",
    "    totalComm_score[nb] = tot_score    \n",
    "        "
   ]
  },
  {
   "cell_type": "code",
   "execution_count": null,
   "metadata": {},
   "outputs": [],
   "source": [
    "#totalComm_score['blubal42']\n",
    "'starcisco' in gNoBots.nodes()"
   ]
  },
  {
   "cell_type": "code",
   "execution_count": null,
   "metadata": {},
   "outputs": [],
   "source": [
    "nobot_graph_numpy = np.array(list(nobot_graph_centrality.values()))\n",
    "print(\"Average centrality = \", np.average(nobot_graph_numpy), \": Maximum Centrality = \", np.max(nobot_graph_numpy))\n",
    "print(\"Average closeness = \", np.average(list(nobot_graph_closeness.values())), \": Maximum Closeness = \", np.max(list(nobot_graph_closeness.values())))\n",
    "print(\"Average betweeness = \", np.average(list(nobot_graph_betweenness.values())), \": Maximum betweenness = \", np.max(list(nobot_graph_betweenness.values())))"
   ]
  },
  {
   "cell_type": "code",
   "execution_count": null,
   "metadata": {},
   "outputs": [],
   "source": [
    "nobot_bri = []\n",
    "for b in nobot_bridges:\n",
    "    nobot_bri.append(b)\n",
    "\n",
    "\n",
    "print(\"dominating set = \", len(nobot_ds), \": Total set = \", len(gNoBots.nodes()), \": number of Bridges = \", len(nobot_bri), \": number of Cliques = \", len(list(nobot_cliques)))"
   ]
  },
  {
   "cell_type": "code",
   "execution_count": null,
   "metadata": {},
   "outputs": [],
   "source": [
    "nobot_bridge_subgraph = []\n",
    "nobot_bridgePOS = {}\n",
    "nobot_bridge_Colors = {}\n",
    "nobot_bridge_Sizes = {}\n",
    "nobot_bridge_labels = {}\n",
    "for b in nobot_bri:    \n",
    "        for bb in b:\n",
    "            #if bb == 'redwavewwg1' or bb=='cheeseslave':\n",
    "            nobot_bridge_subgraph.append(bb)\n",
    "            nobot_bridgePOS[bb] = priorPOS[bb]\n",
    "            nobot_bridge_Colors[bb] = nodeColors[bb]\n",
    "            nobot_bridge_Sizes[bb] = nodeSizes[bb]\n",
    "            nobot_bridge_labels[bb] = bb\n",
    "            \n",
    "gNoBots_bridge = G_sub.subgraph(nobot_bridge_subgraph)            "
   ]
  },
  {
   "cell_type": "code",
   "execution_count": null,
   "metadata": {},
   "outputs": [],
   "source": [
    "plt.figure(figsize=(20,20))\n",
    "nx.draw_networkx(gNoBots, pos=newpos, with_labels=False, node_color=list(nobot_Colors.values()),edge_color='grey', alpha=0.25, font_size=20, font_color='b', node_size=list(nobot_Sizes.values()))\n",
    "nx.draw_networkx(gNoBots_bridge, pos=newpos, with_labels=False, node_color=list(nobot_bridge_Colors.values()),edge_color='blue', alpha=0.5, font_size=20, font_color='b', node_size=list(nobot_bridge_Sizes.values()))\n",
    "plt.savefig(\"botless_hour_graph.png\")"
   ]
  },
  {
   "cell_type": "code",
   "execution_count": null,
   "metadata": {},
   "outputs": [],
   "source": [
    "cumulativePOS={**pos, **priorPOS}\n",
    "len(cumulativePOS)"
   ]
  },
  {
   "cell_type": "code",
   "execution_count": null,
   "metadata": {},
   "outputs": [],
   "source": [
    "degrees = [val for (node, val) in G_sub.degree()]\n",
    "highConnect = np.sort(degrees)[::-1]"
   ]
  },
  {
   "cell_type": "code",
   "execution_count": null,
   "metadata": {},
   "outputs": [],
   "source": [
    "highConnect[0:2]"
   ]
  },
  {
   "cell_type": "markdown",
   "metadata": {},
   "source": [
    "# This section performs more statistical metrics on the rate of tweeting BidenCheated from high Botometer scored users versus low Botometer scored users"
   ]
  },
  {
   "cell_type": "code",
   "execution_count": null,
   "metadata": {},
   "outputs": [],
   "source": [
    "unique_accomplices = df_final['username'].unique()\n",
    "bots_recorded = 0\n",
    "for b in bots:\n",
    "    bots_recorded += 1\n",
    "\n",
    "print(\"users scored as Bots for BidenCheated = \", bots_recorded, \": total users = \", len(unique_accomplices), \": percent Bots = \", (bots_recorded/len(unique_accomplices)))"
   ]
  },
  {
   "cell_type": "code",
   "execution_count": null,
   "metadata": {},
   "outputs": [],
   "source": [
    "total_accomplices = df_final['username'].to_numpy()\n",
    "countAccomplice = {}\n",
    "botAccomplice = {}\n",
    "nonBotAccomplice = {}\n",
    "for u in total_accomplices:\n",
    "    if u in countAccomplice:\n",
    "        countAccomplice[u] += 1        \n",
    "        if u in bots:\n",
    "            if bots[u] >= 4:\n",
    "                botAccomplice[u] += 1\n",
    "            else:\n",
    "                nonBotAccomplice[u] += 1\n",
    "    else:\n",
    "        countAccomplice[u] = 1\n",
    "        if u in bots: \n",
    "            if bots[u] >= 4:\n",
    "                botAccomplice[u] = 1\n",
    "            else:\n",
    "                nonBotAccomplice[u] = 1\n",
    "print(\"total BidenCheated Users = \", len(countAccomplice), \": total BidenCheated Bots = \", len(botAccomplice), \": total BidenCheated nonBots = \", len(nonBotAccomplice))"
   ]
  },
  {
   "cell_type": "code",
   "execution_count": null,
   "metadata": {},
   "outputs": [],
   "source": [
    "print(max(botAccomplice.values()), max(nonBotAccomplice.values()))\n",
    "normalizedBot = []\n",
    "normLarge_b = []\n",
    "largestBots = {}\n",
    "for ba in botAccomplice:    \n",
    "    if botAccomplice[ba] <=100:\n",
    "        normalizedBot.append(botAccomplice[ba])\n",
    "    else:\n",
    "        normLarge_b.append(botAccomplice[ba])\n",
    "        largestBots[ba] = botAccomplice[ba]\n",
    "\n",
    "normalizedUser = []\n",
    "normLarge_u = []\n",
    "largestUser = {}\n",
    "for nb in nonBotAccomplice:    \n",
    "    if nonBotAccomplice[nb] <=100:\n",
    "        normalizedUser.append(nonBotAccomplice[nb])\n",
    "    else:\n",
    "        normLarge_u.append(nonBotAccomplice[nb])\n",
    "        largestUser[nb] = nonBotAccomplice[nb]        \n",
    "        \n",
    "\n",
    "fig = plt.figure()\n",
    "ax1 = fig.add_subplot()\n",
    "ax1.set_ylabel(\"counts\")\n",
    "ax1.set_xlabel(\"number of tweets\")\n",
    "plt.hist(np.array(normalizedBot), bins=100)\n",
    "plt.savefig('accountBotHisto.png')\n",
    "\n",
    "fig = plt.figure()\n",
    "ax1 = fig.add_subplot()\n",
    "ax1.set_ylabel(\"counts\")\n",
    "ax1.set_xlabel(\"number of tweets\")\n",
    "plt.hist(np.array(normalizedUser), bins=100)\n",
    "plt.savefig('accountNonBotHist.png')\n",
    "\n",
    "print(largestBots)\n",
    "fig = plt.figure()\n",
    "ax1 = fig.add_subplot()\n",
    "ax1.set_ylabel(\"counts\")\n",
    "ax1.set_xlabel(\"number of tweets\")\n",
    "plt.hist(np.array(normLarge_b), bins=100)\n",
    "plt.savefig('accountBotHist_Largest.png')\n",
    "print(\"-----------------------------------\")\n",
    "print(largestUser)\n",
    "fig = plt.figure()\n",
    "ax1 = fig.add_subplot()\n",
    "ax1.set_ylabel(\"counts\")\n",
    "ax1.set_xlabel(\"number of tweets\")\n",
    "plt.hist(np.array(normLarge_u), bins=100)\n",
    "plt.savefig('accountNonBotHist_Largest.png')"
   ]
  },
  {
   "cell_type": "code",
   "execution_count": null,
   "metadata": {},
   "outputs": [],
   "source": []
  },
  {
   "cell_type": "code",
   "execution_count": null,
   "metadata": {},
   "outputs": [],
   "source": []
  },
  {
   "cell_type": "code",
   "execution_count": null,
   "metadata": {},
   "outputs": [],
   "source": []
  }
 ],
 "metadata": {
  "kernelspec": {
   "display_name": "Python 3",
   "language": "python",
   "name": "python3"
  },
  "language_info": {
   "codemirror_mode": {
    "name": "ipython",
    "version": 3
   },
   "file_extension": ".py",
   "mimetype": "text/x-python",
   "name": "python",
   "nbconvert_exporter": "python",
   "pygments_lexer": "ipython3",
   "version": "3.6.9"
  }
 },
 "nbformat": 4,
 "nbformat_minor": 4
}
